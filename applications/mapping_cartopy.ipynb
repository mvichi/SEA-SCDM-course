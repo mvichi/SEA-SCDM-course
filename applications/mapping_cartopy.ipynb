{
 "cells": [
  {
   "cell_type": "markdown",
   "metadata": {},
   "source": [
    "# Maps in Scientific Python\n",
    "\n",
    "Making maps is a fundamental part of geoscience research.\n",
    "Maps differ from regular figures in the following principle ways:\n",
    "\n",
    "- Maps require a *projection* of geographic coordinates on the 3D Earth to the 2D space of your figure.\n",
    "- Maps often include extra decorations besides just our data (e.g. continents, country borders, etc.)\n",
    "\n",
    "Mapping is a notoriously hard and complicated problem, mostly due to the complexities of projection.\n",
    "\n",
    "In this lecture, we will learn about [Cartopy](https://scitools.org.uk/cartopy/docs/latest/), one of the most common packages for making maps within python. Another popular and powerful library is [Basemap](https://matplotlib.org/basemap/); however, Basemap is [going away](https://matplotlib.org/basemap/users/intro.html#cartopy-new-management-and-eol-announcement) and being replaced with Cartopy in the near future. For this reason, new python learners are recommended to learn Cartopy.\n",
    "\n",
    "### Credit: Ryan Abernathey and Phil Elson\n",
    "\n",
    "This notebook is extracted from [An Introduction to Earth and Environmental Data Science](https://earth-env-data-science.github.io/intro.html) by [Ryan Abernathey](https://rabernat.github.io/). Each notebook is open source and can be downloaded for testing it on your computer. \n",
    "\n",
    "Lots of the material in this lesson was adopted from [Phil Elson](https://pelson.github.io/)'s excellent [Cartopy Tutorial](https://github.com/SciTools/cartopy-tutorial). Phil is the creator of Cartopy and published his tutorial under an [open license](http://www.nationalarchives.gov.uk/doc/open-government-licence/version/3/), meaning that we can copy, adapt, and redistribute it as long as we give proper attribution. **THANKS PHIL and RYAN!** 👏👏👏"
   ]
  },
  {
   "cell_type": "markdown",
   "metadata": {},
   "source": [
    "## Background: Projections"
   ]
  },
  {
   "cell_type": "markdown",
   "metadata": {},
   "source": [
    "### Most of our media for visualization *are* flat\n",
    "\n",
    "Our two most common media are flat:\n",
    "\n",
    " * Paper\n",
    " * Screen\n",
    "\n",
    "![](https://raw.githubusercontent.com/SciTools/cartopy-tutorial/master/static/flat_medium.jpg)\n",
    "\n",
    "### [Map] Projections: Taking us from spherical to flat\n",
    "\n",
    "A map projection (or more commonly refered to as just \"projection\") is:\n",
    "\n",
    "> a systematic transformation of the latitudes and longitudes of locations from the surface of a sphere or an ellipsoid into locations on a plane. [[Wikipedia: Map projection](https://en.wikipedia.org/wiki/Map_projection)].\n",
    "\n",
    "### The major problem with map projections\n",
    "\n",
    "![orange peel](https://raw.githubusercontent.com/SciTools/cartopy-tutorial/master/static/orange_peel.jpg)\n",
    "\n",
    " * The surface of a sphere is different to a 2D surface, therefore we *have* to cut the sphere *somewhere*\n",
    " * A sphere's surface cannot be represented on a plane without distortion.\n",
    " \n",
    "There are many different projections. Each projection defines a **Coordinate Reference System (CRS)**. If you are not familiar with the main types (cylindrical, conical, etc.) you **should read** Phil's [original tutorial](https://github.com/SciTools/cartopy-tutorial/blob/master/tutorial/projections_crs_and_terms.ipynb) for a great overview of this topic **before** proceeding to the more practical sides of Cartopy usage.\n",
    "\n",
    "### The Components of a CRS\n",
    "The coordinate reference system is made up of several key components:\n",
    "\n",
    "- **Coordinate system**: The X, Y grid upon which your data is overlayed and how you define where a point is located in space.\n",
    "- **Horizontal and vertical units**: The units used to define the grid along the x, y (and z) axis.\n",
    "- **Datum**: A modeled version of the shape of the Earth which defines the origin used to place the coordinate system in space.\n",
    "- **Projection Information**: The mathematical equation used to flatten objects that are on a round surface (e.g. the Earth) so you can view them on a flat surface."
   ]
  },
  {
   "cell_type": "markdown",
   "metadata": {},
   "source": [
    "## Introducing Cartopy\n",
    "\n",
    "https://scitools.org.uk/cartopy/docs/latest/\n",
    "\n",
    "Cartopy makes use of the powerful [PROJ.4](https://proj4.org/), numpy and shapely libraries and includes an interface built on top of Matplotlib for the creation of publication quality maps.\n",
    "\n",
    "Key features of cartopy are its *object-oriented* projection definitions, and its ability to transform points, lines, vectors, polygons and images between those projections.\n",
    "\n",
    "### Cartopy Projections and other reference systems\n",
    "\n",
    "In Cartopy, each projection is a Python **class**.\n",
    "Most classes of projection can be configured in projection-specific ways, although Cartopy takes an opinionated stance on sensible defaults.\n",
    "\n",
    "Let's create a [Plate Carree](https://desktop.arcgis.com/en/arcmap/10.3/guide-books/map-projections/plate-carr-e.htm) projection instance.\n",
    "\n",
    "To do so, we need cartopy's crs module. This is typically imported as ``ccrs`` (Cartopy Coordinate Reference Systems)."
   ]
  },
  {
   "cell_type": "code",
   "execution_count": null,
   "metadata": {},
   "outputs": [],
   "source": [
    "import cartopy.crs as ccrs\n",
    "import cartopy"
   ]
  },
  {
   "cell_type": "markdown",
   "metadata": {},
   "source": [
    "Cartopy's [projection list](https://scitools.org.uk/cartopy/docs/latest/reference/projections.html#cartopy-projections) tells us that the Plate Carree projection is available with the ``ccrs.PlateCarree`` class:\n",
    "\n",
    "\n",
    "**Note:** we need to *instantiate* (create an instance of) the class in order to do anything projection-y with it! \n",
    "\n",
    "Calling the class without arguments creates a map with the default CRS parameters:"
   ]
  },
  {
   "cell_type": "code",
   "execution_count": null,
   "metadata": {},
   "outputs": [],
   "source": [
    "ccrs.PlateCarree()"
   ]
  },
  {
   "cell_type": "markdown",
   "metadata": {},
   "source": [
    "### Drawing a map\n",
    "\n",
    "Cartopy optionally depends upon matplotlib, and each projection knows how to create a matplotlib Axes (or AxesSubplot) that can represent itself. This means that you don't need to tell Cartopy to create the axis. This is done under the hood.\n",
    "\n",
    "The Axes that the projection creates is a [cartopy.mpl.geoaxes.GeoAxes](https://scitools.org.uk/cartopy/docs/latest/matplotlib/geoaxes.html#cartopy.mpl.geoaxes.GeoAxes). This Axes subclass overrides some of matplotlib's existing methods, and adds a number of extremely useful ones for drawing maps.\n",
    "\n",
    "We'll go back and look at those methods shortly, but first, let's actually see the cartopy+matplotlib dance in action:"
   ]
  },
  {
   "cell_type": "code",
   "execution_count": null,
   "metadata": {},
   "outputs": [],
   "source": [
    "%matplotlib inline\n",
    "import matplotlib.pyplot as plt\n",
    "\n",
    "plt.axes(projection=ccrs.PlateCarree())"
   ]
  },
  {
   "cell_type": "markdown",
   "metadata": {},
   "source": [
    "That was a little underwhelming, but we can see from the output that the Axes created is indeed one of those `GeoAxesSubplot` instances.\n",
    "\n",
    "One of the most useful methods that this class adds on top of the standard matplotlib Axes class is the ``coastlines`` method. With no arguments, it will add the [Natural Earth Data](https://www.naturalearthdata.com/) ``1:110,000,000`` scale coastline data to the map."
   ]
  },
  {
   "cell_type": "code",
   "execution_count": null,
   "metadata": {},
   "outputs": [],
   "source": [
    "plt.figure()\n",
    "ax = plt.axes(projection=ccrs.PlateCarree())\n",
    "ax.coastlines()"
   ]
  },
  {
   "cell_type": "markdown",
   "metadata": {},
   "source": [
    "We could just as equally create a matplotlib subplot with one of the many approaches that exist. For example, the ```plt.subplots``` function could be used. In this case the projection keyword must be given as a dictionary:"
   ]
  },
  {
   "cell_type": "code",
   "execution_count": null,
   "metadata": {},
   "outputs": [],
   "source": [
    "fig, ax = plt.subplots(subplot_kw={'projection': ccrs.PlateCarree()})\n",
    "ax.coastlines()"
   ]
  },
  {
   "cell_type": "markdown",
   "metadata": {},
   "source": [
    "Projection classes have options we can use to customize the map. The Plate Carree has one option, the central longitude and the parameters to set the Earth model to be used (ccrs.Globe - *unless you know what you are doing, keep the default globe model*)"
   ]
  },
  {
   "cell_type": "code",
   "execution_count": null,
   "metadata": {},
   "outputs": [],
   "source": [
    "ccrs.PlateCarree?"
   ]
  },
  {
   "cell_type": "code",
   "execution_count": null,
   "metadata": {},
   "outputs": [],
   "source": [
    "ax = plt.axes(projection=ccrs.PlateCarree(central_longitude=180))\n",
    "ax.coastlines()"
   ]
  },
  {
   "cell_type": "markdown",
   "metadata": {},
   "source": [
    "### Useful methods of a GeoAxes\n",
    "\n",
    "The [cartopy.mpl.geoaxes.GeoAxes](https://scitools.org.uk/cartopy/docs/latest/matplotlib/geoaxes.html#cartopy.mpl.geoaxes.GeoAxes) class adds a number of useful methods.\n",
    "\n",
    "Let's take a look at:\n",
    "\n",
    " * [set_global](https://scitools.org.uk/cartopy/docs/latest/matplotlib/geoaxes.html#cartopy.mpl.geoaxes.GeoAxes.set_global) - zoom the map out as much as possible\n",
    " * [set_extent](https://scitools.org.uk/cartopy/docs/latest/matplotlib/geoaxes.html#cartopy.mpl.geoaxes.GeoAxes.set_extent) - zoom the map to the given bounding box\n",
    " \n",
    "\n",
    " * [gridlines](https://scitools.org.uk/cartopy/docs/latest/matplotlib/geoaxes.html#cartopy.mpl.geoaxes.GeoAxes.gridlines) - add a graticule (and optionally labels) to the axes\n",
    " * [coastlines](https://scitools.org.uk/cartopy/docs/latest/matplotlib/geoaxes.html#cartopy.mpl.geoaxes.GeoAxes.coastlines) - add [Natural Earth Data](https://www.naturalearthdata.com/) coastlines to the axes\n",
    " * [stock_img](https://scitools.org.uk/cartopy/docs/latest/matplotlib/geoaxes.html#cartopy.mpl.geoaxes.GeoAxes.stock_img) - add a low-resolution Natural Earth background image to the axes\n",
    " \n",
    " \n",
    " * [imshow](https://matplotlib.org/api/_as_gen/matplotlib.axes.Axes.imshow.html#matplotlib.axes.Axes.imshow) - add an image (numpy array) to the axes\n",
    " * [add_geometries](https://scitools.org.uk/cartopy/docs/latest/matplotlib/geoaxes.html#cartopy.mpl.geoaxes.GeoAxes.add_geometries) - add a collection of geometries (Shapely) to the axes\n",
    " \n",
    "### Some More Examples of Different Global Projections\n",
    "The following loop displays a few projections, add a georeferenced low-res image of the Earth from space, add the coastlines, the graticule with the labels and shows the projection name. Note that the order decides the layering of the objects on the figure."
   ]
  },
  {
   "cell_type": "code",
   "execution_count": null,
   "metadata": {},
   "outputs": [],
   "source": [
    "projections = [ccrs.PlateCarree(),\n",
    "               ccrs.Robinson(),\n",
    "               ccrs.Mercator(),\n",
    "               ccrs.Orthographic(),\n",
    "               ccrs.InterruptedGoodeHomolosine()\n",
    "              ]\n",
    "for proj in projections:\n",
    "    plt.figure()\n",
    "    ax = plt.axes(projection=proj) # create the instance of the GeoAxes class\n",
    "    ax.stock_img()\n",
    "    ax.coastlines()\n",
    "    ax.gridlines(draw_labels=True)\n",
    "    ax.set_title(f'{type(proj)}')"
   ]
  },
  {
   "cell_type": "markdown",
   "metadata": {},
   "source": [
    "### Regional Maps\n",
    "\n",
    "To create a regional map, we use the `set_extent` method of GeoAxis to limit the size of the region. The coastline resolution can also be chosen (see next section for more details). If no resolution is given, a best guess based on the extent is set. The label position can also be adjusted using the methods from the [gridliner](https://scitools.org.uk/cartopy/docs/latest/matplotlib/gridliner.html) instance, such as the boolean methods for locating the labels \n",
    "- `bottom_labels`\n",
    "- `top_labels`\n",
    "- `right_labels`\n",
    "- `left_labels`"
   ]
  },
  {
   "cell_type": "code",
   "execution_count": null,
   "metadata": {},
   "outputs": [],
   "source": [
    "ax.set_extent?"
   ]
  },
  {
   "cell_type": "code",
   "execution_count": null,
   "metadata": {},
   "outputs": [],
   "source": [
    "central_lon, central_lat = 18, -34.5\n",
    "extent = [17, 22, -32, -35]\n",
    "fig,ax = plt.subplots(1,2,figsize=(10,6),subplot_kw={'projection':ccrs.Orthographic(central_lon, central_lat)})\n",
    "ax[0].set_extent(extent)\n",
    "gl0 = ax[0].gridlines(draw_labels=True)\n",
    "ax[0].coastlines(resolution='50m')\n",
    "ax[1].set_extent(extent)\n",
    "gl1 = ax[1].gridlines(draw_labels=True)\n",
    "ax[1].coastlines(resolution='10m')\n",
    "gl0.right_labels = False\n",
    "gl0.top_labels = False\n",
    "gl1.right_labels = False\n",
    "gl1.top_labels = False"
   ]
  },
  {
   "cell_type": "markdown",
   "metadata": {},
   "source": [
    "## Adding Features to the Map\n",
    "\n",
    "To give our map more styles and details, we add `cartopy.feature` objects [(see the manual for all the features)](https://scitools.org.uk/cartopy/docs/latest/matplotlib/feature_interface.html) \n",
    "Many useful features are built in, obtained from the [Natural Earth Data](https://www.naturalearthdata.com/) data set. These \"default features\" are at coarse resolution, but they are scaled based on the extent of your mapped region. The dataset scale keyword is one of ‘10m’, ‘50m’, or ‘110m’, which correspond to 1:10,000,000, 1:50,000,000, and 1:110,000,000 respectively.\n",
    "\n",
    "Name | Description\n",
    "-----|------------\n",
    "`cartopy.feature.BORDERS` | Country boundaries\n",
    "`cartopy.feature.COASTLINE` | Coastline, including major islands\n",
    "`cartopy.feature.LAKES` | Natural and artificial lakes\n",
    "`cartopy.feature.LAND` | Land polygons, including major islands\n",
    "`cartopy.feature.OCEAN` | Ocean polygons\n",
    "`cartopy.feature.RIVERS` | Single-line drainages, including lake centerlines\n",
    "`cartopy.feature.STATES` | (limited to the United States at this scale)\n",
    "\n",
    "Below we illustrate these features in a customized map of Africa. \n",
    "\n",
    "**Note**: the first time you run these commands will start the download of the Natural Earth Data shapefiles (at the best resolution). They will then be installed on your system (additional downloads may occur if you change the extent of the map, or set a given resolution).  "
   ]
  },
  {
   "cell_type": "code",
   "execution_count": null,
   "metadata": {},
   "outputs": [],
   "source": [
    "import cartopy.feature as cfeature\n",
    "import numpy as np\n",
    "\n",
    "extent = [0, 40, 30, -40]\n",
    "central_lon = np.mean(extent[:2])\n",
    "central_lat = np.mean(extent[2:])\n",
    "\n",
    "plt.figure(figsize=(12, 6))\n",
    "ax = plt.axes(projection=ccrs.AlbersEqualArea(central_lon, central_lat))\n",
    "ax.set_extent(extent)\n",
    "\n",
    "ax.add_feature(cfeature.OCEAN)\n",
    "ax.add_feature(cartopy.feature.LAND, edgecolor='black')\n",
    "ax.add_feature(cartopy.feature.LAKES, edgecolor='black')\n",
    "ax.add_feature(cartopy.feature.RIVERS)\n",
    "ax.gridlines(draw_labels=True)"
   ]
  },
  {
   "cell_type": "markdown",
   "metadata": {},
   "source": [
    "If we want higher-resolution features, Cartopy can automatically download and create them from the [Natural Earth Data](http://www.naturalearthdata.com/) database "
   ]
  },
  {
   "cell_type": "code",
   "execution_count": null,
   "metadata": {},
   "outputs": [],
   "source": [
    "rivers_50m = cfeature.NaturalEarthFeature('physical', 'rivers_lake_centerlines', '50m')\n",
    "\n",
    "plt.figure(figsize=(12, 6))\n",
    "ax = plt.axes(projection=ccrs.AlbersEqualArea(central_lon, central_lat))\n",
    "ax.set_extent(extent)\n",
    "\n",
    "ax.add_feature(cfeature.OCEAN)\n",
    "ax.add_feature(cfeature.LAND, edgecolor='black')\n",
    "ax.add_feature(rivers_50m, facecolor='None', edgecolor='b')\n",
    "ax.gridlines()"
   ]
  },
  {
   "cell_type": "markdown",
   "metadata": {},
   "source": [
    "Higher resolution coastlines are available with the [GSHHG dataset](https://www.ngdc.noaa.gov/mgg/shorelines/gshhs.html). To add GSHHG coastline data you need to use the specific feature `cartopy.feature.GSHHSFeature` and set the desired resolution *(yes, there is a typo... the database is called GSHHG and Cartopy calls it GSHHS...)*\n",
    "\n",
    "The geography data come in five resolutions:\n",
    "- **f**ull resolution: Original (full) data resolution (1:250,000). **Should only be used for small regions**\n",
    "- **h**igh resolution: About 80 % reduction in size and quality.\n",
    "- **i**ntermediate resolution: Another ~80 % reduction.\n",
    "- **l**ow resolution: Another ~80 % reduction.\n",
    "- **c**rude resolution: Another ~80 % reduction.\n",
    "\n",
    "**Note**: Cartopy uses an older version of the dataset (v2.2), which is however sufficient for our purposes. If you want to use the [most recent version](http://www.soest.hawaii.edu/pwessel/gshhg/), you will need to download the shapefiles and use the dedicated python module. The download and setup of the GSHHG database _takes quite a long time_. Do not run the following cell during the online tutorial. Also note that if you are requesting the full resolution for a large region, the rendering will take some time and you may not see the difference."
   ]
  },
  {
   "cell_type": "code",
   "execution_count": null,
   "metadata": {},
   "outputs": [],
   "source": [
    "# plot a high resolution coastline of Tasmania\n",
    "cl_high = cfeature.GSHHSFeature(scale='h')\n",
    "\n",
    "extent = [144.5, 148.5, -40, -43.7]\n",
    "ax = plt.axes(projection=ccrs.PlateCarree())\n",
    "ax.set_extent(extent)\n",
    "ax.add_feature(cl_high)\n",
    "ax.gridlines(draw_labels=True)"
   ]
  },
  {
   "cell_type": "markdown",
   "metadata": {},
   "source": [
    "## Adding Data to the Map\n",
    "\n",
    "Now that we know how to create a map, let's add our data to it! That's the whole point.\n",
    "\n",
    "Because our map is a matplotlib axis, we can use all the familiar maptplotlib commands to make plots.\n",
    "By default, the map extent will be adjusted to match the data. We can override this with the `.set_global` or `.set_extent` commands."
   ]
  },
  {
   "cell_type": "code",
   "execution_count": null,
   "metadata": {},
   "outputs": [],
   "source": [
    "# create some test data\n",
    "new_york = dict(lon=-74.0060, lat=40.7128)\n",
    "honolulu = dict(lon=-157.8583, lat=21.3069)\n",
    "lons = [new_york['lon'], honolulu['lon']]\n",
    "lats = [new_york['lat'], honolulu['lat']]"
   ]
  },
  {
   "cell_type": "markdown",
   "metadata": {},
   "source": [
    "Key point: **the data also have to be transformed to the projection space**.\n",
    "This is done via the `transform=` keyword in the plotting method. The argument is another `cartopy.crs` object.\n",
    "If you don't specify a transform, Cartopy assume that the data is using the same projection as the underlying GeoAxis.\n",
    "\n",
    "From the [Cartopy Documentation](https://scitools.org.uk/cartopy/docs/latest/tutorials/understanding_transform.html)\n",
    "\n",
    "> The core concept is that the projection of your axes is independent of the coordinate system your data is defined in. The `projection` argument is used when creating plots and determines the projection of the resulting plot (i.e. what the plot looks like). The `transform` argument to plotting functions tells Cartopy what coordinate system your data are defined in.\n",
    "\n",
    "In the following example, we plot the line between the two points on the Plate Carree projection, and compare it with the same line plotted on the `Geodetic` CRS, which is a spherical model of the Earth (geodesy is the science that accurately measure distances on the Earth). This is the so-called great-circle or orthodromic distance"
   ]
  },
  {
   "cell_type": "code",
   "execution_count": null,
   "metadata": {},
   "outputs": [],
   "source": [
    "ax = plt.axes(projection=ccrs.PlateCarree())\n",
    "ax.plot(lons, lats, label='Equirectangular straight line')\n",
    "ax.plot(lons, lats, label='Great Circle', transform=ccrs.Geodetic())\n",
    "ax.coastlines()\n",
    "ax.legend()\n",
    "ax.set_global()"
   ]
  },
  {
   "cell_type": "markdown",
   "metadata": {},
   "source": [
    "This method works if you know the coordinates of the locations of interest. You often need to display the principal cities, or to do computations of distances between known geolocations or other features. This can be done by using some web services called Geocoders, such as Google, Bing or the free (but limited) version of OpenStreetMap [Nominatim](https://nominatim.openstreetmap.org/ui/search.html).\n",
    "\n",
    "[GeoPy](https://geopy.readthedocs.io/en/stable/) is a client that allows you to access different Geocoders. It can be used to compute the geodetic distance between two points (the real distance, which is the one you should always use for any computation. Note: geodesic is a noun, geodetic an adjective). The module `geopy` must be installed on your system. Open a terminal and type\n",
    "\n",
    "`conda install -c conda-forge geopy`\n",
    "\n",
    "before proceeding with the tutorial.\n",
    "We will compute the distance between Cape Town and the South African Antarctic base SANAE IV"
   ]
  },
  {
   "cell_type": "code",
   "execution_count": null,
   "metadata": {},
   "outputs": [],
   "source": [
    "from geopy.geocoders import Nominatim\n",
    "from geopy.distance import geodesic"
   ]
  },
  {
   "cell_type": "code",
   "execution_count": null,
   "metadata": {},
   "outputs": [],
   "source": [
    "geolocator = Nominatim(user_agent='educational') # nominatim is a free service and requires an identificative agent\n",
    "CT = geolocator.geocode('Cape Town') \n",
    "SANAE = geolocator.geocode('SANAE IV')\n",
    "print(type(CT))\n",
    "print(CT)\n",
    "print(SANAE)\n",
    "print('The distance is ',geodesic(CT.point,SANAE.point).km,' km')"
   ]
  },
  {
   "cell_type": "markdown",
   "metadata": {},
   "source": [
    "The Location object has different attributes, and you can access the coordinates with `CT.latitude` and `CT.longitude`. \n",
    "The information can be used to plot the features on a map"
   ]
  },
  {
   "cell_type": "code",
   "execution_count": null,
   "metadata": {},
   "outputs": [],
   "source": [
    "# a map of the Mediterranean, with a few places\n",
    "extent = [-10, 30, 30, 40]\n",
    "central_lon = np.mean(extent[:2])\n",
    "central_lat = np.mean(extent[2:])\n",
    "\n",
    "place = ['Athens','Algiers','Malta','Gibraltar']\n",
    "address = []\n",
    "for p in place:\n",
    "    loc = geolocator.geocode(p,language=\"en\")\n",
    "    address.append(loc)\n",
    "print(address)\n",
    "\n",
    "plt.figure(figsize=(12, 6))\n",
    "ax = plt.axes(projection=ccrs.AlbersEqualArea(central_lon, central_lat))\n",
    "ax.set_extent(extent)\n",
    "ax.add_feature(cfeature.OCEAN)\n",
    "ax.gridlines(draw_labels=True)\n",
    "for p in range(len(place)):\n",
    "    ax.text(address[p].longitude,address[p].latitude,place[p],transform=ccrs.Geodetic())"
   ]
  },
  {
   "cell_type": "markdown",
   "metadata": {},
   "source": [
    "### Plotting 2D gridded and raster Data\n",
    "\n",
    "The same principles apply to 2D data. Below we create some example data defined on a grid that uses regular lat / lon coordinates. The fake data are constructed using a 2D trigonometric function \n",
    "$$f(\\phi,\\lambda)=\\cos 4\\phi + \\sin 4\\lambda$$\n",
    "which computes a value given a location pair $(\\phi,\\lambda)$ on the grid. \n",
    "In this way, we will generate *gridded data*. The data are contained in a 2D array (numpy `ndarray`), and they must be accompanied by two additional arrays of coordinates "
   ]
  },
  {
   "cell_type": "code",
   "execution_count": null,
   "metadata": {},
   "outputs": [],
   "source": [
    "import numpy as np\n",
    "lon = np.linspace(-80, 80, 25)\n",
    "lat = np.linspace(30, 70, 25)\n",
    "lon2d, lat2d = np.meshgrid(lon, lat)\n",
    "data = np.cos(np.deg2rad(lat2d) * 4) + np.sin(np.deg2rad(lon2d) * 4)\n",
    "plt.contourf(lon2d, lat2d, data)\n",
    "plt.colorbar()"
   ]
  },
  {
   "cell_type": "markdown",
   "metadata": {},
   "source": [
    "Now we create a `PlateCarree` projection and plot the data on it without any `transform` keyword.\n",
    "This happens to work because `PlateCarree` is the simplest projection of lat / lon data."
   ]
  },
  {
   "cell_type": "code",
   "execution_count": null,
   "metadata": {},
   "outputs": [],
   "source": [
    "ax = plt.axes(projection=ccrs.PlateCarree())\n",
    "ax.set_global()\n",
    "ax.coastlines()\n",
    "ax.contourf(lon, lat, data)"
   ]
  },
  {
   "cell_type": "markdown",
   "metadata": {},
   "source": [
    "However, if we try the same thing with a different projection, we get the wrong result."
   ]
  },
  {
   "cell_type": "code",
   "execution_count": null,
   "metadata": {},
   "outputs": [],
   "source": [
    "projection = ccrs.RotatedPole(pole_longitude=-177.5, pole_latitude=37.5)\n",
    "ax = plt.axes(projection=projection)\n",
    "ax.set_global()\n",
    "ax.coastlines()\n",
    "ax.contourf(lon, lat, data)"
   ]
  },
  {
   "cell_type": "markdown",
   "metadata": {},
   "source": [
    "To fix this, we need to pass the correct transform argument to `contourf`:"
   ]
  },
  {
   "cell_type": "code",
   "execution_count": null,
   "metadata": {},
   "outputs": [],
   "source": [
    "projection = ccrs.RotatedPole(pole_longitude=-177.5, pole_latitude=37.5)\n",
    "ax = plt.axes(projection=projection)\n",
    "ax.set_global()\n",
    "ax.coastlines()\n",
    "ax.contourf(lon, lat, data, transform=ccrs.PlateCarree())"
   ]
  },
  {
   "cell_type": "markdown",
   "metadata": {},
   "source": [
    "### Showing Images\n",
    "\n",
    "Digital satellite images are also arrays, but they are usually called raster data\n",
    "\n",
    ">In computer graphics and digital photography, a raster graphic is a dot matrix data structure that represents a generally rectangular grid of pixels, viewable via a computer display, paper, or other display medium. [Wikipedia](https://en.wikipedia.org/wiki/Raster_graphics)\n",
    "\n",
    "This is still an array, but the data are stored as colour information (or multi-band values), instead of the real values. They can also be transformed to the real values (as for instance with ocean colour data that can be translated in chlorophyll concentration).\n",
    "\n",
    "We can plot a satellite image on a map if *we know its extent*. Raster images are often available in the GeoTIFF format, which embeds the projection and coordinate information. They can be retrieved using the `gdal` tool available in the `osgeo` module.\n",
    "We will first download the image of a tropical cyclone from space and then add it to a map"
   ]
  },
  {
   "cell_type": "code",
   "execution_count": null,
   "metadata": {},
   "outputs": [],
   "source": [
    "# Remember that in python shell commands can be executed by putting the exclamation mark in front of the command\n",
    "# You need to have wget installed on your system for this command to work\n",
    "! wget https://lance-modis.eosdis.nasa.gov/imagery/gallery/2012270-0926/Miriam.A2012270.2050.2km.jpg"
   ]
  },
  {
   "cell_type": "code",
   "execution_count": null,
   "metadata": {},
   "outputs": [],
   "source": [
    "fig = plt.figure(figsize=(8, 12))\n",
    "\n",
    "# this example is taken from the cartopy docs. The image is on the Plate Carree projection\n",
    "fname = 'Miriam.A2012270.2050.2km.jpg'\n",
    "img_extent = (-120.67660000000001, -106.32104523100001, 13.2301484511245, 30.766899999999502)\n",
    "img = plt.imread(fname)\n",
    "\n",
    "ax = plt.axes(projection=ccrs.PlateCarree())\n",
    "\n",
    "# set a margin around the data\n",
    "ax.set_xmargin(0.05)\n",
    "ax.set_ymargin(0.10)\n",
    "\n",
    "# add the image. Because this image was a tif, the \"origin\" of the image is in the\n",
    "# upper left corner\n",
    "ax.imshow(img, origin='upper', extent=img_extent, transform=ccrs.PlateCarree())\n",
    "ax.coastlines(resolution='50m', color='black', linewidth=1)\n",
    "\n",
    "# mark a known place to help us geo-locate ourselves\n",
    "ax.plot(-117.1625, 32.715, 'bo', markersize=7, transform=ccrs.Geodetic())\n",
    "ax.text(-117, 33, 'San Diego', transform=ccrs.Geodetic())\n"
   ]
  },
  {
   "cell_type": "markdown",
   "metadata": {},
   "source": [
    "## Doing More\n",
    "\n",
    "Browse the [Cartopy Gallery](https://scitools.org.uk/cartopy/docs/latest/gallery/index.html) to learn about all the different types of data and plotting methods available!"
   ]
  },
  {
   "cell_type": "code",
   "execution_count": null,
   "metadata": {},
   "outputs": [],
   "source": []
  }
 ],
 "metadata": {
  "kernelspec": {
   "display_name": "Python 3 (ipykernel)",
   "language": "python",
   "name": "python3"
  },
  "language_info": {
   "codemirror_mode": {
    "name": "ipython",
    "version": 3
   },
   "file_extension": ".py",
   "mimetype": "text/x-python",
   "name": "python",
   "nbconvert_exporter": "python",
   "pygments_lexer": "ipython3",
   "version": "3.10.12"
  }
 },
 "nbformat": 4,
 "nbformat_minor": 4
}
